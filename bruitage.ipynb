{
  "nbformat": 4,
  "nbformat_minor": 0,
  "metadata": {
    "colab": {
      "provenance": []
    },
    "kernelspec": {
      "name": "python3",
      "display_name": "Python 3"
    },
    "language_info": {
      "name": "python"
    }
  },
  "cells": [
    {
      "cell_type": "markdown",
      "source": [
        "## Librairies nécessaires"
      ],
      "metadata": {
        "id": "tw1VtdItd7Hg"
      }
    },
    {
      "cell_type": "code",
      "execution_count": 2,
      "metadata": {
        "id": "CeovJIwVbFPx",
        "colab": {
          "base_uri": "https://localhost:8080/"
        },
        "outputId": "cb669edc-addd-47ff-f6c6-a808315d1b9c"
      },
      "outputs": [
        {
          "output_type": "stream",
          "name": "stdout",
          "text": [
            "Collecting wfdb\n",
            "  Downloading wfdb-4.2.0-py3-none-any.whl.metadata (3.7 kB)\n",
            "Requirement already satisfied: matplotlib>=3.2.2 in /usr/local/lib/python3.11/dist-packages (from wfdb) (3.10.0)\n",
            "Requirement already satisfied: numpy>=1.26.4 in /usr/local/lib/python3.11/dist-packages (from wfdb) (2.0.2)\n",
            "Collecting pandas>=2.2.3 (from wfdb)\n",
            "  Downloading pandas-2.2.3-cp311-cp311-manylinux_2_17_x86_64.manylinux2014_x86_64.whl.metadata (89 kB)\n",
            "\u001b[2K     \u001b[90m━━━━━━━━━━━━━━━━━━━━━━━━━━━━━━━━━━━━━━━━\u001b[0m \u001b[32m89.9/89.9 kB\u001b[0m \u001b[31m1.8 MB/s\u001b[0m eta \u001b[36m0:00:00\u001b[0m\n",
            "\u001b[?25hRequirement already satisfied: requests>=2.8.1 in /usr/local/lib/python3.11/dist-packages (from wfdb) (2.32.3)\n",
            "Requirement already satisfied: scipy>=1.13.0 in /usr/local/lib/python3.11/dist-packages (from wfdb) (1.14.1)\n",
            "Requirement already satisfied: soundfile>=0.10.0 in /usr/local/lib/python3.11/dist-packages (from wfdb) (0.13.1)\n",
            "Requirement already satisfied: contourpy>=1.0.1 in /usr/local/lib/python3.11/dist-packages (from matplotlib>=3.2.2->wfdb) (1.3.1)\n",
            "Requirement already satisfied: cycler>=0.10 in /usr/local/lib/python3.11/dist-packages (from matplotlib>=3.2.2->wfdb) (0.12.1)\n",
            "Requirement already satisfied: fonttools>=4.22.0 in /usr/local/lib/python3.11/dist-packages (from matplotlib>=3.2.2->wfdb) (4.56.0)\n",
            "Requirement already satisfied: kiwisolver>=1.3.1 in /usr/local/lib/python3.11/dist-packages (from matplotlib>=3.2.2->wfdb) (1.4.8)\n",
            "Requirement already satisfied: packaging>=20.0 in /usr/local/lib/python3.11/dist-packages (from matplotlib>=3.2.2->wfdb) (24.2)\n",
            "Requirement already satisfied: pillow>=8 in /usr/local/lib/python3.11/dist-packages (from matplotlib>=3.2.2->wfdb) (11.1.0)\n",
            "Requirement already satisfied: pyparsing>=2.3.1 in /usr/local/lib/python3.11/dist-packages (from matplotlib>=3.2.2->wfdb) (3.2.1)\n",
            "Requirement already satisfied: python-dateutil>=2.7 in /usr/local/lib/python3.11/dist-packages (from matplotlib>=3.2.2->wfdb) (2.8.2)\n",
            "Requirement already satisfied: pytz>=2020.1 in /usr/local/lib/python3.11/dist-packages (from pandas>=2.2.3->wfdb) (2025.1)\n",
            "Requirement already satisfied: tzdata>=2022.7 in /usr/local/lib/python3.11/dist-packages (from pandas>=2.2.3->wfdb) (2025.1)\n",
            "Requirement already satisfied: charset-normalizer<4,>=2 in /usr/local/lib/python3.11/dist-packages (from requests>=2.8.1->wfdb) (3.4.1)\n",
            "Requirement already satisfied: idna<4,>=2.5 in /usr/local/lib/python3.11/dist-packages (from requests>=2.8.1->wfdb) (3.10)\n",
            "Requirement already satisfied: urllib3<3,>=1.21.1 in /usr/local/lib/python3.11/dist-packages (from requests>=2.8.1->wfdb) (2.3.0)\n",
            "Requirement already satisfied: certifi>=2017.4.17 in /usr/local/lib/python3.11/dist-packages (from requests>=2.8.1->wfdb) (2025.1.31)\n",
            "Requirement already satisfied: cffi>=1.0 in /usr/local/lib/python3.11/dist-packages (from soundfile>=0.10.0->wfdb) (1.17.1)\n",
            "Requirement already satisfied: pycparser in /usr/local/lib/python3.11/dist-packages (from cffi>=1.0->soundfile>=0.10.0->wfdb) (2.22)\n",
            "Requirement already satisfied: six>=1.5 in /usr/local/lib/python3.11/dist-packages (from python-dateutil>=2.7->matplotlib>=3.2.2->wfdb) (1.17.0)\n",
            "Downloading wfdb-4.2.0-py3-none-any.whl (162 kB)\n",
            "\u001b[2K   \u001b[90m━━━━━━━━━━━━━━━━━━━━━━━━━━━━━━━━━━━━━━━━\u001b[0m \u001b[32m162.3/162.3 kB\u001b[0m \u001b[31m4.1 MB/s\u001b[0m eta \u001b[36m0:00:00\u001b[0m\n",
            "\u001b[?25hDownloading pandas-2.2.3-cp311-cp311-manylinux_2_17_x86_64.manylinux2014_x86_64.whl (13.1 MB)\n",
            "\u001b[2K   \u001b[90m━━━━━━━━━━━━━━━━━━━━━━━━━━━━━━━━━━━━━━━━\u001b[0m \u001b[32m13.1/13.1 MB\u001b[0m \u001b[31m57.3 MB/s\u001b[0m eta \u001b[36m0:00:00\u001b[0m\n",
            "\u001b[?25hInstalling collected packages: pandas, wfdb\n",
            "  Attempting uninstall: pandas\n",
            "    Found existing installation: pandas 2.2.2\n",
            "    Uninstalling pandas-2.2.2:\n",
            "      Successfully uninstalled pandas-2.2.2\n",
            "\u001b[31mERROR: pip's dependency resolver does not currently take into account all the packages that are installed. This behaviour is the source of the following dependency conflicts.\n",
            "google-colab 1.0.0 requires pandas==2.2.2, but you have pandas 2.2.3 which is incompatible.\u001b[0m\u001b[31m\n",
            "\u001b[0mSuccessfully installed pandas-2.2.3 wfdb-4.2.0\n"
          ]
        }
      ],
      "source": [
        "import numpy as np\n",
        "!pip install wfdb\n",
        "import wfdb\n",
        "import os\n",
        "import pandas as pd"
      ]
    },
    {
      "cell_type": "markdown",
      "source": [
        "## Définitions"
      ],
      "metadata": {
        "id": "e2P9IBD5fvEl"
      }
    },
    {
      "cell_type": "markdown",
      "source": [
        "1. Définition du SNR (Signal-to-Noise Ratio)\n",
        "\n",
        "Le SNR est défini comme le rapport entre la puissance du signal PsPs​ et la puissance du bruit $Pn​, exprimé en décibels (dB) :\n",
        "\n",
        "$$SNR_{dB}=10log_{⁡10}(P_{s} P_{n})$$\n",
        "\n",
        "2. Puissance d'un signal\n",
        "\n",
        "La puissance moyenne d'un signal discret x[n]x[n] sur NN échantillons est donnée par :\n",
        "Ps=1N∑n=1Nx[n]2\n",
        "\n",
        "\n",
        "De même, la puissance du bruit PnPn​ est définie comme :\n",
        "Pn=1N∑n=1Nn[n]2\n",
        "Pn​=N1​n=1∑N​n[n]2\n",
        "\n",
        "où n[n]n[n] est le bruit ajouté au signal.\n",
        "3. Calcul du niveau de bruit pour un SNR donné\n",
        "\n",
        "Si on souhaite ajouter un bruit ayant un SNR spécifique, la puissance du bruit nécessaire est obtenue par :\n",
        "Pn=Ps10SNRdB/10\n",
        "Pn​=10SNRdB​/10Ps​​\n",
        "\n",
        "Ensuite, on génère un bruit gaussien n[n]n[n] avec une variance σn2=Pnσn2​=Pn​.\n"
      ],
      "metadata": {
        "id": "wg4qQjnAfzsK"
      }
    },
    {
      "cell_type": "code",
      "source": [],
      "metadata": {
        "id": "U6ZVTFjFfyOe"
      },
      "execution_count": null,
      "outputs": []
    },
    {
      "cell_type": "markdown",
      "source": [
        "## Fonctions utiles"
      ],
      "metadata": {
        "id": "hqhgRLD7eACq"
      }
    },
    {
      "cell_type": "code",
      "source": [
        "def add_gaussian_noise(signal, snr_db):\n",
        "    \"\"\"\n",
        "    Ajoute un bruit gaussien à un signal ECG pour obtenir un SNR donné.\n",
        "\n",
        "    :param signal: numpy array, signal ECG\n",
        "    :param snr_db: float, niveau de bruit en dB (ex: 6, 12, 24)\n",
        "    :return: signal bruité\n",
        "    \"\"\"\n",
        "    power_signal = np.mean(signal ** 2)  # Puissance du signal\n",
        "    snr_linear = 10 ** (snr_db / 10)  # Convertir SNR dB en échelle linéaire\n",
        "    noise_power = power_signal / snr_linear  # Calcul de la puissance du bruit\n",
        "    noise = np.random.normal(0, np.sqrt(noise_power), signal.shape)  # Générer le bruit\n",
        "    return signal + noise\n",
        "\n",
        "\n",
        "def add_gaussian_noise(signal, snr_db):\n",
        "    \"\"\"\n",
        "    Ajoute du bruit gaussien à un signal pour obtenir un SNR spécifié.\n",
        "\n",
        "    :param signal: numpy array, signal d'origine\n",
        "    :param snr_db: float, niveau de SNR souhaité en décibels\n",
        "    :return: numpy array, signal bruité\n",
        "    \"\"\"\n",
        "    # Calcul de la puissance du signal\n",
        "    power_signal = np.mean(signal ** 2)\n",
        "    # Conversion du SNR de dB à échelle linéaire\n",
        "    snr_linear = 10 ** (snr_db / 10)\n",
        "    # Calcul de la puissance du bruit nécessaire\n",
        "    noise_power = power_signal / snr_linear\n",
        "    # Génération du bruit gaussien\n",
        "    noise = np.random.normal(0, np.sqrt(noise_power), signal.shape)\n",
        "    # Addition du bruit au signal original\n",
        "    noisy_signal = signal + noise\n",
        "    return noisy_signal\n",
        "\n"
      ],
      "metadata": {
        "id": "mhjdMTOxeCUb"
      },
      "execution_count": null,
      "outputs": []
    }
  ]
}