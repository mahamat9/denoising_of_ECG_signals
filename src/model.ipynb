{
  "nbformat": 4,
  "nbformat_minor": 0,
  "metadata": {
    "colab": {
      "provenance": [],
      "collapsed_sections": [
        "tw1VtdItd7Hg",
        "uVEtGHIgQ2Gq",
        "UO2Q5Uu-9lgl",
        "W97lb7r_RjLk"
      ],
      "gpuType": "T4"
    },
    "kernelspec": {
      "name": "python3",
      "display_name": "Python 3"
    },
    "language_info": {
      "name": "python"
    },
    "accelerator": "GPU"
  },
  "cells": [
    {
      "cell_type": "markdown",
      "source": [
        "## Librairies nécessaires"
      ],
      "metadata": {
        "id": "tw1VtdItd7Hg"
      }
    },
    {
      "cell_type": "code",
      "source": [
        "!pip install wfdb\n",
        "import wfdb\n",
        "from wfdb import processing\n",
        "import os\n",
        "import numpy as np\n",
        "import pandas as pd\n",
        "import matplotlib.pyplot as plt\n",
        "import random\n",
        "from sklearn.model_selection import train_test_split\n",
        "\n",
        "from scipy.signal import butter, filtfilt #pour filtre du bruit\n",
        "\n",
        "from tqdm import tqdm\n",
        "import torch\n",
        "import torch.nn as nn\n",
        "import torch.optim as optim\n",
        "from torch.utils.data import Dataset, DataLoader, TensorDataset"
      ],
      "metadata": {
        "colab": {
          "base_uri": "https://localhost:8080/"
        },
        "collapsed": true,
        "id": "oDQhwpyaClOl",
        "outputId": "f7290719-005d-4341-8fd1-f8b0bf0de83f"
      },
      "execution_count": null,
      "outputs": [
        {
          "output_type": "stream",
          "name": "stdout",
          "text": [
            "Collecting wfdb\n",
            "  Downloading wfdb-4.2.0-py3-none-any.whl.metadata (3.7 kB)\n",
            "Requirement already satisfied: matplotlib>=3.2.2 in /usr/local/lib/python3.11/dist-packages (from wfdb) (3.10.0)\n",
            "Requirement already satisfied: numpy>=1.26.4 in /usr/local/lib/python3.11/dist-packages (from wfdb) (2.0.2)\n",
            "Collecting pandas>=2.2.3 (from wfdb)\n",
            "  Downloading pandas-2.2.3-cp311-cp311-manylinux_2_17_x86_64.manylinux2014_x86_64.whl.metadata (89 kB)\n",
            "\u001b[2K     \u001b[90m━━━━━━━━━━━━━━━━━━━━━━━━━━━━━━━━━━━━━━━━\u001b[0m \u001b[32m89.9/89.9 kB\u001b[0m \u001b[31m2.8 MB/s\u001b[0m eta \u001b[36m0:00:00\u001b[0m\n",
            "\u001b[?25hRequirement already satisfied: requests>=2.8.1 in /usr/local/lib/python3.11/dist-packages (from wfdb) (2.32.3)\n",
            "Requirement already satisfied: scipy>=1.13.0 in /usr/local/lib/python3.11/dist-packages (from wfdb) (1.14.1)\n",
            "Requirement already satisfied: soundfile>=0.10.0 in /usr/local/lib/python3.11/dist-packages (from wfdb) (0.13.1)\n",
            "Requirement already satisfied: contourpy>=1.0.1 in /usr/local/lib/python3.11/dist-packages (from matplotlib>=3.2.2->wfdb) (1.3.1)\n",
            "Requirement already satisfied: cycler>=0.10 in /usr/local/lib/python3.11/dist-packages (from matplotlib>=3.2.2->wfdb) (0.12.1)\n",
            "Requirement already satisfied: fonttools>=4.22.0 in /usr/local/lib/python3.11/dist-packages (from matplotlib>=3.2.2->wfdb) (4.56.0)\n",
            "Requirement already satisfied: kiwisolver>=1.3.1 in /usr/local/lib/python3.11/dist-packages (from matplotlib>=3.2.2->wfdb) (1.4.8)\n",
            "Requirement already satisfied: packaging>=20.0 in /usr/local/lib/python3.11/dist-packages (from matplotlib>=3.2.2->wfdb) (24.2)\n",
            "Requirement already satisfied: pillow>=8 in /usr/local/lib/python3.11/dist-packages (from matplotlib>=3.2.2->wfdb) (11.1.0)\n",
            "Requirement already satisfied: pyparsing>=2.3.1 in /usr/local/lib/python3.11/dist-packages (from matplotlib>=3.2.2->wfdb) (3.2.1)\n",
            "Requirement already satisfied: python-dateutil>=2.7 in /usr/local/lib/python3.11/dist-packages (from matplotlib>=3.2.2->wfdb) (2.8.2)\n",
            "Requirement already satisfied: pytz>=2020.1 in /usr/local/lib/python3.11/dist-packages (from pandas>=2.2.3->wfdb) (2025.1)\n",
            "Requirement already satisfied: tzdata>=2022.7 in /usr/local/lib/python3.11/dist-packages (from pandas>=2.2.3->wfdb) (2025.1)\n",
            "Requirement already satisfied: charset-normalizer<4,>=2 in /usr/local/lib/python3.11/dist-packages (from requests>=2.8.1->wfdb) (3.4.1)\n",
            "Requirement already satisfied: idna<4,>=2.5 in /usr/local/lib/python3.11/dist-packages (from requests>=2.8.1->wfdb) (3.10)\n",
            "Requirement already satisfied: urllib3<3,>=1.21.1 in /usr/local/lib/python3.11/dist-packages (from requests>=2.8.1->wfdb) (2.3.0)\n",
            "Requirement already satisfied: certifi>=2017.4.17 in /usr/local/lib/python3.11/dist-packages (from requests>=2.8.1->wfdb) (2025.1.31)\n",
            "Requirement already satisfied: cffi>=1.0 in /usr/local/lib/python3.11/dist-packages (from soundfile>=0.10.0->wfdb) (1.17.1)\n",
            "Requirement already satisfied: pycparser in /usr/local/lib/python3.11/dist-packages (from cffi>=1.0->soundfile>=0.10.0->wfdb) (2.22)\n",
            "Requirement already satisfied: six>=1.5 in /usr/local/lib/python3.11/dist-packages (from python-dateutil>=2.7->matplotlib>=3.2.2->wfdb) (1.17.0)\n",
            "Downloading wfdb-4.2.0-py3-none-any.whl (162 kB)\n",
            "\u001b[2K   \u001b[90m━━━━━━━━━━━━━━━━━━━━━━━━━━━━━━━━━━━━━━━━\u001b[0m \u001b[32m162.3/162.3 kB\u001b[0m \u001b[31m6.2 MB/s\u001b[0m eta \u001b[36m0:00:00\u001b[0m\n",
            "\u001b[?25hDownloading pandas-2.2.3-cp311-cp311-manylinux_2_17_x86_64.manylinux2014_x86_64.whl (13.1 MB)\n",
            "\u001b[2K   \u001b[90m━━━━━━━━━━━━━━━━━━━━━━━━━━━━━━━━━━━━━━━━\u001b[0m \u001b[32m13.1/13.1 MB\u001b[0m \u001b[31m58.9 MB/s\u001b[0m eta \u001b[36m0:00:00\u001b[0m\n",
            "\u001b[?25hInstalling collected packages: pandas, wfdb\n",
            "  Attempting uninstall: pandas\n",
            "    Found existing installation: pandas 2.2.2\n",
            "    Uninstalling pandas-2.2.2:\n",
            "      Successfully uninstalled pandas-2.2.2\n",
            "\u001b[31mERROR: pip's dependency resolver does not currently take into account all the packages that are installed. This behaviour is the source of the following dependency conflicts.\n",
            "google-colab 1.0.0 requires pandas==2.2.2, but you have pandas 2.2.3 which is incompatible.\u001b[0m\u001b[31m\n",
            "\u001b[0mSuccessfully installed pandas-2.2.3 wfdb-4.2.0\n"
          ]
        }
      ]
    },
    {
      "cell_type": "markdown",
      "source": [
        "## Fonctions utiles"
      ],
      "metadata": {
        "id": "hqhgRLD7eACq"
      }
    },
    {
      "cell_type": "markdown",
      "source": [
        "##### Bruits"
      ],
      "metadata": {
        "id": "uVEtGHIgQ2Gq"
      }
    },
    {
      "cell_type": "code",
      "source": [
        "def simulation_bbgaussien(signal, snr_db):\n",
        "    \"\"\"\n",
        "    Ajoute du bruit gaussien à un signal pour obtenir un SNR spécifié.\n",
        "\n",
        "    signal: signal d'origine\n",
        "    snr_db: niveau de SNR souhaité en décibels\n",
        "\n",
        "    return:signal bruité\n",
        "    \"\"\"\n",
        "    N = len(signal)\n",
        "    puissance_signal = np.var(signal) #puissance du signal\n",
        "    puissance_bruit = puissance_signal / (10**(snr_db / 10)) #puissance du bruit nécessaire\n",
        "    bruit = np.random.normal(0, np.sqrt(puissance_bruit), N) ##génération du bruit blanc gaussien\n",
        "    signal_bruite = signal + bruit #signal bruité\n",
        "    return signal_bruite\n",
        "#source: https://www.youtube.com/watch?v=NEnRuu0WlsU\n",
        "\n",
        "def ajout_bruit_baseline(signal, snr_db, f=0.1, Te=1000):\n",
        "    \"\"\"\n",
        "    Simule un bruit de baseline(respiratoire) en ajoutant une basse fréquence au signal.\n",
        "\n",
        "    f: fréquence du bruit\n",
        "    Te: T d'échantillonnage\n",
        "    \"\"\"\n",
        "    N = len(signal)\n",
        "    t = np.arange(N) / Te\n",
        "    bruit = np.sin(2 * np.pi * f * t) #non-stationnaire(statistiquement)\n",
        "\n",
        "    #ajustement du bruit en fonction du SNR\n",
        "    puissance_signal = np.var(signal)\n",
        "    puissance_bruit = puissance_signal / (10**(snr_db / 10))\n",
        "    bruit *= np.sqrt(puissance_bruit) / np.std(bruit)\n",
        "\n",
        "    signal_bruite = signal + bruit\n",
        "    return signal_bruite\n",
        "# inspiré de https://arxiv.org/html/2502.14522v1 et stackexchange\n",
        "\n",
        "\n",
        "def ajout_mouvement_electrode(signal, snr_db):\n",
        "    \"\"\"\n",
        "    Simule un mouvement des électrodes\n",
        "    \"\"\"\n",
        "    N = len(signal)\n",
        "    puissance_signal = np.var(signal)\n",
        "    puissance_bruit = puissance_signal / (10**(snr_db / 10))\n",
        "    bruit = np.cumsum(np.random.normal(0, np.sqrt(puissance_bruit), N))  #marche aléatoire\n",
        "\n",
        "    #standarisation du bruit\n",
        "    bruit = bruit - np.mean(bruit)\n",
        "    bruit = bruit / np.std(bruit)\n",
        "\n",
        "    #if puissance_bruit*N != np.var(bruit):\n",
        "    #      print(puissance_bruit)#*(N*(N-1)/2))\n",
        "    #      print(np.var(bruit))\n",
        "\n",
        "    #puissance_bruit = np.var(bruit)\n",
        "    #bruit *= np.sqrt(puissance_bruit) / np.std(bruit)\n",
        "    signal_bruite = signal + bruit\n",
        "    return signal_bruite\n",
        "\n",
        "def ajout_artefacts_musculaires(signal, snr_db, Te=1000):\n",
        "    \"\"\"\n",
        "    Simule des artefacts musculaires en ajoutant un bruit haute fréquence au signal.\n",
        "    \"\"\"\n",
        "    N = len(signal)\n",
        "    puissance_signal = np.mean(signal ** 2)\n",
        "    puissance_bruit = puissance_signal / (10**(snr_db / 10))\n",
        "\n",
        "    bruit = np.random.normal(0, np.sqrt(puissance_bruit), N) #génération du bruit gaussien\n",
        "    nyquist = 0.5 * Te\n",
        "\n",
        "    #filtrage pour garder les fréquences 0.5-70 Hz\n",
        "    b, a = butter(2, [0.5 / nyquist, 70 / nyquist], btype='bandpass')\n",
        "    bruit_filtre = filtfilt(b, a, bruit)\n",
        "\n",
        "    #standarisation du bruit\n",
        "    bruit_filtre = bruit_filtre - np.mean(bruit_filtre)\n",
        "    bruit_filtre = bruit_filtre / np.std(bruit_filtre)\n",
        "\n",
        "    signal_bruite = signal + bruit_filtre\n",
        "    return signal_bruite\n",
        "\n",
        "def ajout_inference_electrique(signal, snr_db, f=50, Te=1000):\n",
        "    \"\"\"\n",
        "    Simule un bruit de baseline(respiratoire) en ajoutant une basse fréquence au signal.\n",
        "\n",
        "    f: 50Hz(europe)\n",
        "    Te: T d'échantillonnage\n",
        "    \"\"\"\n",
        "    N = len(signal)\n",
        "    t = np.arange(N) / Te\n",
        "    bruit = np.sin(2 * np.pi * f * t) # non-stationnaire(statistiquement)\n",
        "\n",
        "    #standarisation du bruit\n",
        "    bruit = bruit - np.mean(bruit)\n",
        "    bruit = bruit / np.std(bruit)\n",
        "\n",
        "    #ajustement du bruit en fonction du SNR\n",
        "    puissance_signal = np.var(signal)\n",
        "    puissance_bruit = puissance_signal / (10**(snr_db / 10))\n",
        "    bruit *= np.sqrt(puissance_bruit) / np.std(bruit)\n",
        "\n",
        "    signal_bruite = signal + bruit\n",
        "    return signal_bruite"
      ],
      "metadata": {
        "id": "mhjdMTOxeCUb"
      },
      "execution_count": null,
      "outputs": []
    },
    {
      "cell_type": "code",
      "source": [
        "def bruitage_alea(data, fonctions_bruit, p=0.5):\n",
        "    \"\"\"\n",
        "    Bruite aléatoirement une proportion des données avec des bruits;\n",
        "      fonctions_bruit: Une liste des fonctions de bruit à utiliser,\n",
        "      p: La proportion des ECG à bruiter\n",
        "    \"\"\"\n",
        "    nb_ecg_bruiter = int(data.shape[0] * p) #part de singaux àbruiter\n",
        "    idx_a_bruiter = random.sample(range(data.shape[0]), nb_ecg_bruiter)\n",
        "    infos_bruit = []\n",
        "\n",
        "    #bruiter les ECG sélectionnés\n",
        "    for i in idx_a_bruiter:\n",
        "        f = random.choice(fonctions_bruit) #selection aléatoire d'une  bruit\n",
        "        type_bruit = fonctions_bruit.index(f)  # index du type de bruit\n",
        "\n",
        "        #application d'UN bruit avec une SNR different par canal\n",
        "        for canal in range(data.shape[2]):\n",
        "            snr_db = random.uniform(6,24)\n",
        "            data[i, :, canal] = f(data[i, :, canal], snr_db)\n",
        "            infos_bruit.append([i, type_bruit, snr_db])\n",
        "    return data, infos_bruit\n",
        "\n",
        "#liste des fonctions de bruit\n",
        "fonctions_bruit = [\n",
        "    simulation_bbgaussien,\n",
        "    ajout_bruit_baseline,\n",
        "    ajout_mouvement_electrode,\n",
        "    ajout_artefacts_musculaires,\n",
        "    ajout_inference_electrique\n",
        "]"
      ],
      "metadata": {
        "id": "2RCTl_2nE3Bp"
      },
      "execution_count": null,
      "outputs": []
    },
    {
      "cell_type": "markdown",
      "source": [
        "##### Métrique"
      ],
      "metadata": {
        "id": "UO2Q5Uu-9lgl"
      }
    },
    {
      "cell_type": "code",
      "source": [
        "def mse(signal_clean, signal_denoised):\n",
        "    \"\"\"\n",
        "    Calcule l'erreur quadratique moyenne entre le signal propre et le signal débruité.\n",
        "    \"\"\"\n",
        "    return np.mean((signal_clean - signal_denoised) ** 2)\n",
        "\n",
        "def snr(signal_clean, signal_denoised):\n",
        "    power_signal = np.var(signal_clean)#np.mean(signal_clean ** 2)\n",
        "    power_noise = np.var(signal_clean - signal_denoised)#np.mean((signal_clean - signal_denoised) ** 2)\n",
        "    # Pour éviter une division par zéro\n",
        "    if power_noise == 0:\n",
        "        return np.inf\n",
        "    return 10 * np.log10(power_signal / power_noise)\n",
        "\n",
        "def correlation(signal_clean, signal_denoised):\n",
        "    \"\"\"\n",
        "    Calcule le coefficient de corrélation entre le signal propre et le signal débruité.\n",
        "    \"\"\"\n",
        "    # np.corrcoef retourne une matrice 2x2, on récupère les correlations(l'élément hors diagonale)\n",
        "    correlation_matrix = np.corrcoef(signal_clean, signal_denoised)\n",
        "    return correlation_matrix[0, 1]"
      ],
      "metadata": {
        "id": "e2_SE9osxUj3"
      },
      "execution_count": null,
      "outputs": []
    },
    {
      "cell_type": "code",
      "source": [
        "def plot_and_metrics(signal, noisy_signal, denoised_signal):\n",
        "    \"\"\"Affiche les métriques et le graphique des signaux.\"\"\"\n",
        "\n",
        "    # Calcul des métriques\n",
        "    mse_value = mse(signal, denoised_signal)\n",
        "    snr_value = snr(signal, denoised_signal)\n",
        "    corr_value = correlation(signal, denoised_signal)\n",
        "\n",
        "    # Affichage des métriques\n",
        "    print(\"MSE :\", mse_value, \"\\n\")\n",
        "    print(\"SNR :\", snr_value, \"dB\", \"\\n\")\n",
        "    print(\"Coefficient de corrélation :\", corr_value)\n",
        "\n",
        "    # Visualisation des signaux\n",
        "    plt.figure(figsize=(12, 4))\n",
        "    plt.plot(signal, label=\"Signal propre\", linewidth=2)\n",
        "    plt.plot(noisy_signal, label=\"Signal bruité\", alpha=0.6)\n",
        "    plt.plot(denoised_signal, label=\"Signal débruité\", linestyle=\"--\", linewidth=2)\n",
        "    plt.xlabel(\"Temps (s)\")\n",
        "    plt.ylabel(\"Amplitude\")\n",
        "    plt.title(\"Comparaison des signaux\")\n",
        "    plt.legend()"
      ],
      "metadata": {
        "id": "h77Rgefn-c3D"
      },
      "execution_count": null,
      "outputs": []
    },
    {
      "cell_type": "markdown",
      "source": [
        "## Bruitage des données"
      ],
      "metadata": {
        "id": "qUlPW_yvBsV7"
      }
    },
    {
      "cell_type": "code",
      "source": [
        "from google.colab import drive\n",
        "root = '/content/gdrive/'\n",
        "drive.mount(root)\n",
        "\n",
        "# create permanent directory in gdrive\n",
        "#data_dir_path = '/MyDrive/Colab Notebooks/'\n",
        "data_dir_path = '/MyDrive/' # for shared folder\n",
        "os.makedirs(os.path.join(root,data_dir_path), exist_ok=True)\n",
        "os.listdir(os.path.join(root,data_dir_path))"
      ],
      "metadata": {
        "colab": {
          "base_uri": "https://localhost:8080/"
        },
        "collapsed": true,
        "id": "-ihkXdRdBvMd",
        "outputId": "5855b0db-8660-49ff-eb0d-afbe0fb88c1e"
      },
      "execution_count": null,
      "outputs": [
        {
          "output_type": "stream",
          "name": "stdout",
          "text": [
            "Mounted at /content/gdrive/\n"
          ]
        },
        {
          "output_type": "execute_result",
          "data": {
            "text/plain": [
              "[]"
            ]
          },
          "metadata": {},
          "execution_count": 6
        }
      ]
    },
    {
      "cell_type": "code",
      "source": [
        "# chargement des données\n",
        "chm = '/content/gdrive/MyDrive/'\n",
        "#chm = '/content/gdrive/MyDrive/Colab Notebooks'\n",
        "#X_100 = np.load(chm+'/ptbxl_signals_100hz.npy')\n",
        "#X_500 = np.load('ptbxl_signals_500hz.npy')\n",
        "\n",
        "#load the IDs (Y data)\n",
        "#Y = np.load('/content/gdrive/MyDrive/ptbxl_ids.npy', allow_pickle=True)\n",
        "X = np.load(chm+'/ptbxl_signals_100hz.npy')"
      ],
      "metadata": {
        "collapsed": true,
        "id": "wq0LLOnRB4p_"
      },
      "execution_count": null,
      "outputs": []
    },
    {
      "cell_type": "code",
      "source": [
        "Y = X.copy()\n",
        "X, info_br = bruitage_alea(Y, fonctions_bruit, 0.5)"
      ],
      "metadata": {
        "id": "ln-yX4o9Fjty"
      },
      "execution_count": null,
      "outputs": []
    },
    {
      "cell_type": "markdown",
      "source": [
        "**Hyperparamètres:**\n",
        "* batch_size = 32\n",
        "* num_epochs = 100\n",
        "* lr=1e-3"
      ],
      "metadata": {
        "id": "oGj3L7NLPQ1a"
      }
    },
    {
      "cell_type": "code",
      "source": [
        "batch_size = 32\n",
        "num_epochs = 100\n",
        "lr=1e-3\n",
        "\n",
        "# Paramètres du processus de diffusion\n",
        "T = 1000  # Nombre total d'étapes de diffusion\n",
        "beta_start = 1e-4\n",
        "beta_end = 0.02\n",
        "betas = torch.linspace(beta_start, beta_end, T).to(torch.device(\"cuda\" if torch.cuda.is_available() else \"cpu\"))\n",
        "alphas = 1.0 - betas\n",
        "alphas_cumprod = torch.cumprod(alphas, dim=0)"
      ],
      "metadata": {
        "id": "XVr-C_CqPZhM"
      },
      "execution_count": null,
      "outputs": []
    },
    {
      "cell_type": "code",
      "source": [
        "X_train, X_eval, y_train, y_eval = train_test_split(X, Y, test_size=0.2, random_state=42)  # 80% train\n",
        "X_test, X_val, y_test, y_val = train_test_split(X_eval, y_eval, test_size=0.5, random_state=42)  # 10% val, 10% test\n",
        "del X,Y,X_eval,y_eval\n",
        "\n",
        "train_dataset = TensorDataset(torch.FloatTensor(X_train).permute(0,2,1), torch.Tensor(y_train).permute(0,2,1))\n",
        "val_dataset = TensorDataset(torch.Tensor(X_val).permute(0,2,1), torch.Tensor(y_val).permute(0,2,1))\n",
        "test_dataset = TensorDataset(torch.Tensor(X_test).permute(0,2,1), torch.Tensor(y_test).permute(0,2,1))\n",
        "del X_train, X_val, X_test, y_train, y_val, y_test\n",
        "# dimension des donnees = n, canaux, echantillon par tps\n",
        "\n",
        "\n",
        "train_loader = DataLoader(train_dataset, batch_size=batch_size, shuffle=True)\n",
        "val_loader = DataLoader(val_dataset, batch_size=batch_size, shuffle=False)\n",
        "test_loader = DataLoader(test_dataset, batch_size=batch_size, shuffle=False)\n",
        "del train_dataset, val_dataset, test_dataset"
      ],
      "metadata": {
        "collapsed": true,
        "id": "9UP_z3myNkMe"
      },
      "execution_count": null,
      "outputs": []
    },
    {
      "cell_type": "markdown",
      "source": [
        "# Diffusion débruiteure"
      ],
      "metadata": {
        "id": "y5maq-liELdB"
      }
    },
    {
      "cell_type": "code",
      "source": [
        "def forward_diffusion_sample(x0, t):\n",
        "    \"\"\"\n",
        "    Ajoute du bruit à x0 pour une étape t donnée du processus de diffusion.\n",
        "\n",
        "    x0 : signal propre (shape: [batch, channels, length])\n",
        "    t  : tensor de taille [batch] contenant l'indice de l'étape de diffusion pour chaque échantillon.\n",
        "\n",
        "    Retourne : x_t (signal bruité) et le bruit ajouté.\n",
        "    \"\"\"\n",
        "    device = x0.device\n",
        "    # Récupérer sqrt(alpha_cumprod) et sqrt(1 - alpha_cumprod) pour les indices t\n",
        "    sqrt_alpha_cumprod = torch.sqrt(alphas_cumprod[t]).view(-1, 1, 1).to(device) # Reshape to match data dimensions\n",
        "    sqrt_one_minus_alpha_cumprod = torch.sqrt(1 - alphas_cumprod[t]).view(-1, 1, 1).to(device) # Reshape to match data dimensions\n",
        "\n",
        "    noise = torch.randn_like(x0)  # Generate noise with the same shape as x0\n",
        "    x_t = sqrt_alpha_cumprod * x0 + sqrt_one_minus_alpha_cumprod * noise\n",
        "    return x_t, noise\n",
        "\n",
        "class DDPM(nn.Module):\n",
        "    def __init__(self, input_channels=12, hidden_dim=64):\n",
        "        super(DDPM, self).__init__()\n",
        "        self.net = nn.Sequential(\n",
        "            nn.Conv1d(input_channels, hidden_dim, kernel_size=3, padding=1),\n",
        "            nn.ReLU(),\n",
        "            nn.Conv1d(hidden_dim, hidden_dim, kernel_size=3, padding=1),\n",
        "            nn.ReLU(),\n",
        "            nn.Conv1d(hidden_dim, input_channels, kernel_size=3, padding=1)\n",
        "        )\n",
        "\n",
        "    def forward(self, x, t):\n",
        "        # version simplifiée, nous ignorons t dans le forward(phase bruitage).\n",
        "        return self.net(x)\n",
        "\n",
        "def train_diffusion(model, train_loader, val_loader, num_epochs=100, lr=1e-3):\n",
        "    \"\"\"\n",
        "    Boucle d'entraînement du modèle de diffusion.\n",
        "    Le modèle apprend à prédire le bruit ajouté au signal.\n",
        "    \"\"\"\n",
        "    device = torch.device(\"cuda\" if torch.cuda.is_available() else \"cpu\")\n",
        "    model.to(device)\n",
        "    optimizer = optim.Adam(model.parameters(), lr=lr)\n",
        "    criterion = nn.MSELoss()\n",
        "\n",
        "    #for epoch in tqdm(enumerate(range(num_epochs))):\n",
        "    for epoch_idx, epoch in enumerate(tqdm(range(num_epochs), desc=\"entrainement en cours...\", leave=False)): # unpack the tuple from enumerate to epoch_idx and epoch\n",
        "        model.train()\n",
        "        train_loss = 0.0\n",
        "        for batch in train_loader:\n",
        "            x0 = batch[0]\n",
        "            x0 = x0.to(device)  # x0: signal propre, shape [batch, channels, length]\n",
        "            batch_size = x0.shape[0]\n",
        "            # Tirer aléatoirement une étape t pour chaque échantillon\n",
        "            t = torch.randint(0, T, (batch_size,), device=device)\n",
        "            # Générer un signal bruité et récupérer le bruit ajouté\n",
        "            x_t, noise = forward_diffusion_sample(x0, t)\n",
        "            # Le modèle doit prédire le bruit ajouté\n",
        "            noise_pred = model(x_t, t)\n",
        "            loss = criterion(noise_pred, noise)\n",
        "\n",
        "            optimizer.zero_grad()\n",
        "            loss.backward()\n",
        "            optimizer.step()\n",
        "            train_loss += loss.item() * batch_size\n",
        "\n",
        "        train_loss /= len(train_loader.dataset)\n",
        "\n",
        "\n",
        "        # Validation\n",
        "        model.eval()\n",
        "        val_loss = 0.0\n",
        "        with torch.no_grad():\n",
        "            for batch in val_loader:\n",
        "                x0 = batch[0]\n",
        "                x0 = x0[0].to(device)\n",
        "                batch_size = x0.shape[0]\n",
        "                t = torch.randint(0, T, (batch_size,), device=device)\n",
        "                x_t, noise = forward_diffusion_sample(x0, t)\n",
        "                noise_pred = model(x_t, t)\n",
        "                loss = criterion(noise_pred, noise)\n",
        "                val_loss += loss.item() * batch_size\n",
        "        val_loss /= len(val_loader.dataset)\n",
        "\n",
        "        if epoch_idx % 10 == 0:\n",
        "            print(f\"Epoch {epoch+1}/{num_epochs} - Train Loss: {train_loss:.6f} - Val Loss: {val_loss:.6f}\")"
      ],
      "metadata": {
        "collapsed": true,
        "id": "xd3Laui5xi8x"
      },
      "execution_count": null,
      "outputs": []
    },
    {
      "cell_type": "markdown",
      "source": [
        "### Entrainement+Test sur données \"jouet\""
      ],
      "metadata": {
        "id": "W97lb7r_RjLk"
      }
    },
    {
      "cell_type": "code",
      "source": [
        "# Exemple d'utilisation :\n",
        "\n",
        "# Simulation de 100 signaux ECG de 1 canal, 1000 points chacun\n",
        "X = torch.sin(torch.linspace(0, 2 * np.pi, 1000)).unsqueeze(0).repeat(100, 1)  # Shape [100, 1000]\n",
        "X = X.unsqueeze(1)  # Shape [100, 1, 1000] (1 canal)\n",
        "X_val = torch.sin(torch.linspace(0, 2 * np.pi, 1000)).unsqueeze(0).repeat(20, 1)\n",
        "X_val = X_val.unsqueeze(1)\n",
        "\n",
        "train = TensorDataset(X)\n",
        "train_loader = DataLoader(train, batch_size, shuffle=True)\n",
        "val = TensorDataset(X_val)\n",
        "val_loader = DataLoader(val, batch_size, shuffle=True)\n",
        "\n",
        "#initialisation le modèle de diffusion\n",
        "model = DiffusionModel(input_channels=1, hidden_dim=64)\n",
        "train_diffusion(model, train_loader, val_loader, num_epochs, lr)\n",
        "torch.save(model.state_dict(), f\"diffusion_model_epoch_{num_epochs}.pth\")"
      ],
      "metadata": {
        "colab": {
          "base_uri": "https://localhost:8080/"
        },
        "id": "Ugzt9bDuRmQv",
        "outputId": "f65bedcc-7d9f-4a1a-d5bd-acc8ad0372a9"
      },
      "execution_count": null,
      "outputs": [
        {
          "output_type": "stream",
          "name": "stderr",
          "text": [
            "3it [00:00, 22.88it/s]"
          ]
        },
        {
          "output_type": "stream",
          "name": "stdout",
          "text": [
            "Epoch 1/100 - Train Loss: 0.482629 - Val Loss: 0.074712\n"
          ]
        },
        {
          "output_type": "stream",
          "name": "stderr",
          "text": [
            "15it [00:00, 23.06it/s]"
          ]
        },
        {
          "output_type": "stream",
          "name": "stdout",
          "text": [
            "Epoch 11/100 - Train Loss: 0.118188 - Val Loss: 0.015838\n"
          ]
        },
        {
          "output_type": "stream",
          "name": "stderr",
          "text": [
            "24it [00:01, 22.97it/s]"
          ]
        },
        {
          "output_type": "stream",
          "name": "stdout",
          "text": [
            "Epoch 21/100 - Train Loss: 0.122031 - Val Loss: 0.044535\n"
          ]
        },
        {
          "output_type": "stream",
          "name": "stderr",
          "text": [
            "33it [00:01, 20.70it/s]"
          ]
        },
        {
          "output_type": "stream",
          "name": "stdout",
          "text": [
            "Epoch 31/100 - Train Loss: 0.119618 - Val Loss: 0.035949\n"
          ]
        },
        {
          "output_type": "stream",
          "name": "stderr",
          "text": [
            "44it [00:02, 19.08it/s]"
          ]
        },
        {
          "output_type": "stream",
          "name": "stdout",
          "text": [
            "Epoch 41/100 - Train Loss: 0.122059 - Val Loss: 0.027169\n"
          ]
        },
        {
          "output_type": "stream",
          "name": "stderr",
          "text": [
            "53it [00:02, 18.90it/s]"
          ]
        },
        {
          "output_type": "stream",
          "name": "stdout",
          "text": [
            "Epoch 51/100 - Train Loss: 0.106208 - Val Loss: 0.018908\n"
          ]
        },
        {
          "output_type": "stream",
          "name": "stderr",
          "text": [
            "65it [00:03, 20.31it/s]"
          ]
        },
        {
          "output_type": "stream",
          "name": "stdout",
          "text": [
            "Epoch 61/100 - Train Loss: 0.119004 - Val Loss: 0.038732\n"
          ]
        },
        {
          "output_type": "stream",
          "name": "stderr",
          "text": [
            "74it [00:03, 18.65it/s]"
          ]
        },
        {
          "output_type": "stream",
          "name": "stdout",
          "text": [
            "Epoch 71/100 - Train Loss: 0.101977 - Val Loss: 0.026404\n"
          ]
        },
        {
          "output_type": "stream",
          "name": "stderr",
          "text": [
            "84it [00:04, 21.09it/s]"
          ]
        },
        {
          "output_type": "stream",
          "name": "stdout",
          "text": [
            "Epoch 81/100 - Train Loss: 0.105440 - Val Loss: 0.028113\n"
          ]
        },
        {
          "output_type": "stream",
          "name": "stderr",
          "text": [
            "93it [00:04, 23.22it/s]"
          ]
        },
        {
          "output_type": "stream",
          "name": "stdout",
          "text": [
            "Epoch 91/100 - Train Loss: 0.109642 - Val Loss: 0.010108\n"
          ]
        },
        {
          "output_type": "stream",
          "name": "stderr",
          "text": [
            "100it [00:04, 20.80it/s]\n"
          ]
        }
      ]
    },
    {
      "cell_type": "code",
      "source": [
        "N = 20  # nombre d'échantillons de test\n",
        "channels = 12\n",
        "length = 1000\n",
        "t = torch.linspace(0, 1, length)\n",
        "X_test = torch.sin(2 * np.pi * 5 * t).unsqueeze(0).repeat(N, 1).unsqueeze(1)  # signaux propres simulés\n",
        "\n",
        "\n",
        "X_test_np = X_test.numpy().squeeze()  # conversion en numpy pour le bruitage\n",
        "snr_np = [np.random.uniform(6, 24) for _ in range(N)]\n",
        "X_test_bruite_np = np.array([simulation_bbgaussien(X_test_np[i], snr_np[i]) for i in range(N)])\n",
        "X_test_bruite = torch.tensor(X_test_bruite_np).unsqueeze(1).float()\n",
        "\n",
        "# Créez un DataLoader pour l'ensemble de test\n",
        "test_dataset = TensorDataset(X_test, X_test_bruite)\n",
        "test_loader = DataLoader(test_dataset, batch_size=5, shuffle=False)\n",
        "\n",
        "# Charger le modèle (en supposant qu'il est entraîné)\n",
        "device = torch.device(\"cuda\" if torch.cuda.is_available() else \"cpu\")\n",
        "model.to(device)\n",
        "model.eval()  # mode évaluation\n",
        "\n",
        "with torch.no_grad():\n",
        "    for clean, noisy in test_loader:\n",
        "        clean = clean.to(device)   # signal propre\n",
        "        noisy = noisy.to(device)   # signal bruité\n",
        "\n",
        "        # Pour simplifier, on simule un processus inverse simple :\n",
        "        # ici, le modèle prédit le bruit et on soustrait ce bruit au signal bruité.\n",
        "        # Vous pourrez remplacer cette étape par un processus inverse complet si vous l'avez implémenté.\n",
        "        # Choisir un t arbitraire (par exemple t = T-1 pour une étape finale)\n",
        "        batch_size = noisy.shape[0]\n",
        "        t_batch = torch.full((batch_size,), T-1, dtype=torch.long, device=device)\n",
        "\n",
        "        noise_pred = model(noisy, t_batch)  # prédiction du bruit\n",
        "        denoised = noisy - noise_pred     # estimation du signal propre\n",
        "\n",
        "        # Conversion en numpy pour calcul des métriques\n",
        "        clean_np = clean.cpu().numpy().squeeze()\n",
        "        denoised_np = denoised.cpu().numpy().squeeze()\n",
        "        noisy = noisy.cpu().numpy().squeeze()\n",
        "\n",
        "\n",
        "\n",
        "# Visualisation d'un exemple\n",
        "example_idx = 2\n",
        "print(\"SNR initial\", np.mean(snr_np), 'dB \\n')\n",
        "plot_and_metrics(clean_np[example_idx], X_test_bruite_np[example_idx], denoised_np[example_idx])"
      ],
      "metadata": {
        "colab": {
          "base_uri": "https://localhost:8080/",
          "height": 465
        },
        "id": "fqPUcDSU0zZz",
        "outputId": "790b4670-85df-4f56-80e4-fe05c96b5346"
      },
      "execution_count": null,
      "outputs": [
        {
          "output_type": "stream",
          "name": "stdout",
          "text": [
            "SNR initial 14.924598865355978 dB \n",
            "\n",
            "MSE : 0.26596305 \n",
            "\n",
            "SNR : 2.8100228 dB \n",
            "\n",
            "Coefficient de corrélation : 0.7970896461461743\n"
          ]
        },
        {
          "output_type": "display_data",
          "data": {
            "text/plain": [
              "<Figure size 1200x400 with 1 Axes>"
            ],
            "image/png": "[encoded data removed]"
          },
          "metadata": {}
        }
      ]
    },
    {
      "cell_type": "markdown",
      "source": [
        "## Entrainement du modèle sur les données réelles d'apprentissage"
      ],
      "metadata": {
        "id": "vFFu3PwKVNNB"
      }
    },
    {
      "cell_type": "code",
      "source": [
        "model = DDPM(input_channels=12, hidden_dim=64)"
      ],
      "metadata": {
        "id": "7qc5Dt4Smnpl"
      },
      "execution_count": null,
      "outputs": []
    },
    {
      "cell_type": "code",
      "source": [
        "train_diffusion(model, train_loader, val_loader, num_epochs, lr)"
      ],
      "metadata": {
        "colab": {
          "base_uri": "https://localhost:8080/"
        },
        "id": "qh484KDHpCns",
        "outputId": "e548da91-cfdb-4501-edfe-9335fe8622d0"
      },
      "execution_count": null,
      "outputs": [
        {
          "output_type": "stream",
          "name": "stderr",
          "text": [
            "entrainement en cours...:   0%|          | 0/100 [00:00<?, ?it/s]/usr/local/lib/python3.11/dist-packages/torch/nn/modules/loss.py:610: UserWarning: Using a target size (torch.Size([12, 1000])) that is different to the input size (torch.Size([12, 12, 1000])). This will likely lead to incorrect results due to broadcasting. Please ensure they have the same size.\n",
            "  return F.mse_loss(input, target, reduction=self.reduction)\n",
            "entrainement en cours...:   1%|          | 1/100 [00:02<04:24,  2.68s/it]"
          ]
        },
        {
          "output_type": "stream",
          "name": "stdout",
          "text": [
            "Epoch 1/100 - Train Loss: 0.210601 - Val Loss: 0.060093\n"
          ]
        },
        {
          "output_type": "stream",
          "name": "stderr",
          "text": [
            "entrainement en cours...:  11%|█         | 11/100 [00:29<03:59,  2.69s/it]"
          ]
        },
        {
          "output_type": "stream",
          "name": "stdout",
          "text": [
            "Epoch 11/100 - Train Loss: 0.076652 - Val Loss: 0.026551\n"
          ]
        },
        {
          "output_type": "stream",
          "name": "stderr",
          "text": [
            "entrainement en cours...:  21%|██        | 21/100 [00:55<03:26,  2.62s/it]"
          ]
        },
        {
          "output_type": "stream",
          "name": "stdout",
          "text": [
            "Epoch 21/100 - Train Loss: 0.071817 - Val Loss: 0.025235\n"
          ]
        },
        {
          "output_type": "stream",
          "name": "stderr",
          "text": [
            "entrainement en cours...:  31%|███       | 31/100 [01:21<03:01,  2.63s/it]"
          ]
        },
        {
          "output_type": "stream",
          "name": "stdout",
          "text": [
            "Epoch 31/100 - Train Loss: 0.069696 - Val Loss: 0.025714\n"
          ]
        },
        {
          "output_type": "stream",
          "name": "stderr",
          "text": [
            "entrainement en cours...:  41%|████      | 41/100 [01:47<02:34,  2.62s/it]"
          ]
        },
        {
          "output_type": "stream",
          "name": "stdout",
          "text": [
            "Epoch 41/100 - Train Loss: 0.069385 - Val Loss: 0.023292\n"
          ]
        },
        {
          "output_type": "stream",
          "name": "stderr",
          "text": [
            "entrainement en cours...:  51%|█████     | 51/100 [02:13<02:07,  2.61s/it]"
          ]
        },
        {
          "output_type": "stream",
          "name": "stdout",
          "text": [
            "Epoch 51/100 - Train Loss: 0.070083 - Val Loss: 0.027958\n"
          ]
        },
        {
          "output_type": "stream",
          "name": "stderr",
          "text": [
            "entrainement en cours...:  61%|██████    | 61/100 [02:40<01:42,  2.62s/it]"
          ]
        },
        {
          "output_type": "stream",
          "name": "stdout",
          "text": [
            "Epoch 61/100 - Train Loss: 0.068069 - Val Loss: 0.025741\n"
          ]
        },
        {
          "output_type": "stream",
          "name": "stderr",
          "text": [
            "entrainement en cours...:  71%|███████   | 71/100 [03:06<01:15,  2.61s/it]"
          ]
        },
        {
          "output_type": "stream",
          "name": "stdout",
          "text": [
            "Epoch 71/100 - Train Loss: 0.070299 - Val Loss: 0.025832\n"
          ]
        },
        {
          "output_type": "stream",
          "name": "stderr",
          "text": [
            "entrainement en cours...:  81%|████████  | 81/100 [03:32<00:49,  2.62s/it]"
          ]
        },
        {
          "output_type": "stream",
          "name": "stdout",
          "text": [
            "Epoch 81/100 - Train Loss: 0.067036 - Val Loss: 0.028494\n"
          ]
        },
        {
          "output_type": "stream",
          "name": "stderr",
          "text": [
            "entrainement en cours...:  91%|█████████ | 91/100 [03:58<00:23,  2.61s/it]"
          ]
        },
        {
          "output_type": "stream",
          "name": "stdout",
          "text": [
            "Epoch 91/100 - Train Loss: 0.067645 - Val Loss: 0.029009\n"
          ]
        },
        {
          "output_type": "stream",
          "name": "stderr",
          "text": []
        }
      ]
    },
    {
      "cell_type": "markdown",
      "source": [
        "## Evaluation du modèle sur les données test réelles"
      ],
      "metadata": {
        "id": "6mBoPxZnfYQt"
      }
    },
    {
      "cell_type": "code",
      "source": [
        "device = torch.device(\"cuda\" if torch.cuda.is_available() else \"cpu\")\n",
        "model.to(device)\n",
        "model.eval()  # mode évaluation\n",
        "\n",
        "with torch.no_grad():\n",
        "    for clean, noised in test_loader:\n",
        "        clean = clean.to(device)   # signal propre\n",
        "        noised = noised.to(device)   # signal bruité\n",
        "\n",
        "        # Pour simplifier, on simule un processus inverse simple :\n",
        "        # ici, le modèle prédit le bruit et on soustrait ce bruit au signal bruité.\n",
        "        # Vous pourrez remplacer cette étape par un processus inverse complet si vous l'avez implémenté.\n",
        "        # Choisir un t arbitraire (par exemple t = T-1 pour une étape finale)\n",
        "        batch_size = noised.shape[0]\n",
        "        t_batch = torch.full((batch_size,), T-1, dtype=torch.long, device=device)\n",
        "\n",
        "        noise_pred = model(noised, t_batch)  # prédiction du bruit\n",
        "        denoised = noised - noise_pred     # estimation du signal propre\n",
        "\n",
        "        # Conversion en numpy pour calcul des métriques\n",
        "        clean_np = clean.cpu().numpy().squeeze()\n",
        "        denoised_np = denoised.cpu().numpy().squeeze()\n",
        "        noised = noised.cpu().numpy().squeeze()\n",
        "\n",
        "\n",
        "\n",
        "# Visualisation d'un exemple\n",
        "example_idx = random.randint(0, len(clean_np)-1)\n",
        "plot_and_metrics(clean_np[example_idx], noised[example_idx], denoised_np[example_idx])"
      ],
      "metadata": {
        "id": "xPS8Ly2Efd-g"
      },
      "execution_count": null,
      "outputs": []
    },
    {
      "cell_type": "markdown",
      "source": [
        "MSE : 0.03613356\n",
        "\n",
        "SNR : -0.023371277 dB\n",
        "\n",
        "Coefficient de corrélation : 0.9361975995064857"
      ],
      "metadata": {
        "id": "NGRMUHAatN1r"
      }
    },
    {
      "cell_type": "code",
      "source": [
        "torch.save(model.state_dict(), f\"diffusion_model_epoch_{num_epochs}.pth\")\n",
        "!cp diffusion_model_epoch_100.pth /content/gdrive/MyDrive/"
      ],
      "metadata": {
        "id": "ZEcbAesYszve"
      },
      "execution_count": null,
      "outputs": []
    },
    {
      "cell_type": "markdown",
      "source": [
        "## Breve descriptive du diffusion"
      ],
      "metadata": {
        "id": "sb_mdA5-fe5H"
      }
    },
    {
      "cell_type": "markdown",
      "source": [
        "* Processus de diffusion\n",
        "\n",
        "  On définit une séquence de T étapes où le bruit est ajouté progressivement.\n",
        "\n",
        "  La fonction forward_diffusion_sample calcule :\n",
        "\n",
        "  $$x_t = \\sqrt{\\bar{α}_t}x_0 + \\sqrt{1 - \\bar{α}_t}ϵ$$\n",
        "\n",
        "  où $\\bar{α}_t$​ est le produit cumulatif des $α$ jusqu'à l'étape t.\n",
        "\n",
        "* Modèle de diffusion\n",
        "\n",
        "  Le modèle est entraîné pour prédire le bruit ϵϵ ajouté. L'objectif est de minimiser la différence entre le bruit prédit et le bruit réel (MSE).\n",
        "\n",
        "* Boucle d'entraînement\n",
        "\n",
        "  À chaque itération, pour chaque échantillon, on sélectionne aléatoirement un temps tt, on ajoute du bruit, puis on calcule la perte en comparant le bruit prédit par le modèle à celui qui a été effectivement ajouté.\n",
        "\n",
        "Sources:\n",
        "* Diffusion Models Beat GANs on Image Synthesis\n",
        "Nichol, A. & Dhariwal, P. (2021). https://arxiv.org/abs/2105.05233\n",
        "\n",
        "* Modèle de diffusion génération, Mémoire M2 Data Science à l'UA, mars 2025 [Rapport](https://github.com/mahamat9/diffusion_model_M2DSUA/blob/main/rapport/TER_Diffusion_Model.pdf) [Implémentation DDPM sur MNIST](https://github.com/mahamat9/diffusion_model_M2DSUA/tree/main/tibo%20-%20Mod%C3%A8les%20%C3%A0%20Difusion)"
      ],
      "metadata": {
        "id": "tu8VqXCtzEvl"
      }
    }
  ]
}